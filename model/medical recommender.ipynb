{
 "cells": [
  {
   "cell_type": "code",
   "execution_count": null,
   "id": "da5c9cc3-215c-46f5-9a4f-eef47f9a218e",
   "metadata": {},
   "outputs": [],
   "source": [
    "import pandas as pd \n",
    "import numpy as np\n",
    "from sklearn.model_selection import train_test_split\n",
    "from sklearn.preprocessing import LabelEncoder\n",
    "from sklearn.datasets import make_classification\n",
    "from sklearn.ensemble import RandomForestClassifier, GradientBoostingClassifier\n",
    "from sklearn.neighbors import KNeighborsClassifier\n",
    "from sklearn.naive_bayes import MultinomialNB\n",
    "from sklearn.metrics import accuracy_score, confusion_matrix\n"
   ]
  },
  {
   "cell_type": "code",
   "execution_count": null,
   "id": "f1783dc5-ddd4-4fba-a279-1eb016d42ef1",
   "metadata": {},
   "outputs": [],
   "source": [
    "from sklearn.svm import SVC"
   ]
  },
  {
   "cell_type": "code",
   "execution_count": null,
   "id": "5febed99-0209-46d6-9969-d31af6947bee",
   "metadata": {},
   "outputs": [],
   "source": [
    "path = '../data/Training.csv'\n",
    "df = pd.read_csv(path)"
   ]
  },
  {
   "cell_type": "code",
   "execution_count": null,
   "id": "ebc81a95-eee9-4129-bdc0-15ea0eca749c",
   "metadata": {},
   "outputs": [],
   "source": [
    "df.shape"
   ]
  },
  {
   "cell_type": "code",
   "execution_count": null,
   "id": "11c38a5a-db91-42ad-8476-8d308ee2703e",
   "metadata": {},
   "outputs": [],
   "source": [
    "df.sample(5)"
   ]
  },
  {
   "cell_type": "code",
   "execution_count": null,
   "id": "5a77c9ed-aa53-4292-8db0-aeefae8da3b8",
   "metadata": {},
   "outputs": [],
   "source": [
    "len(df['prognosis'].unique())"
   ]
  },
  {
   "cell_type": "markdown",
   "id": "88565b64-27a9-4fa6-a70b-1df8725dd123",
   "metadata": {},
   "source": [
    "# Splitting the data"
   ]
  },
  {
   "cell_type": "code",
   "execution_count": null,
   "id": "41016ba7-6629-4cf6-892e-d8ced1211aff",
   "metadata": {},
   "outputs": [],
   "source": [
    "dataset = df"
   ]
  },
  {
   "cell_type": "code",
   "execution_count": null,
   "id": "003fdaf6-00bb-4d9d-819f-42f69c82b6ae",
   "metadata": {},
   "outputs": [],
   "source": [
    "X = dataset.drop('prognosis', axis = 1)\n",
    "y = dataset['prognosis']"
   ]
  },
  {
   "cell_type": "code",
   "execution_count": null,
   "id": "fcedd6c0-2056-4211-95ff-b72f2f7e2de9",
   "metadata": {},
   "outputs": [],
   "source": [
    "# encode y, which is string\n",
    "le = LabelEncoder()\n",
    "le.fit(y)\n",
    "y = le.transform(y)"
   ]
  },
  {
   "cell_type": "code",
   "execution_count": null,
   "id": "db2d4709-4270-4b82-ae89-c015139bfcc9",
   "metadata": {},
   "outputs": [],
   "source": [
    "X_train, X_test, y_train , y_test = train_test_split(X, y, test_size = 0.3 , random_state = 20)"
   ]
  },
  {
   "cell_type": "code",
   "execution_count": null,
   "id": "3697d435-2258-482b-b2db-bc9ba46a0d74",
   "metadata": {},
   "outputs": [],
   "source": [
    "X_train.shape, X_test.shape, y_train.shape, y_test.shape\n"
   ]
  },
  {
   "cell_type": "markdown",
   "id": "c7390855-56af-45e2-94cb-18c6bb30475d",
   "metadata": {},
   "source": [
    "\n",
    "# Train some ML models"
   ]
  },
  {
   "cell_type": "code",
   "execution_count": null,
   "id": "b3fac9e2-d519-4291-b4e4-f9f574b84dcc",
   "metadata": {},
   "outputs": [],
   "source": [
    "# create a dictionary to store models\n",
    "models = {\n",
    "    'SVC': SVC(kernel = 'linear'),\n",
    "    'RandomForest': RandomForestClassifier(n_estimators = 100, random_state = 42),\n",
    "    'KNeighbors' : KNeighborsClassifier(n_neighbors = 5),\n",
    "    'MultinomialNB' : MultinomialNB(),\n",
    "    'GradientBoosting' : GradientBoostingClassifier(n_estimators = 100, random_state = 42)\n",
    "}"
   ]
  },
  {
   "cell_type": "code",
   "execution_count": null,
   "id": "f54bf43f-8eb9-4395-9b05-1b55ea9718ac",
   "metadata": {},
   "outputs": [],
   "source": [
    "for model, model in models.items():\n",
    "    model.fit(X_train, y_train)\n",
    "    y_pred = model.predict(X_test)\n",
    "    accuracy = accuracy_score(y_test,y_pred) # accuracy \n",
    "\n",
    "    cm = confusion_matrix (y_test, y_pred) # confusiion matrix\n",
    "\n",
    "    print(f'{model} accuracy: {accuracy}')\n",
    "    print(f\"{model} Confusion matrix: \")\n",
    "    print(np.array2string(cm, separator = ' '))\n"
   ]
  },
  {
   "cell_type": "markdown",
   "id": "9fb30dcc-5d92-44bb-a19f-c5c6c4d2721c",
   "metadata": {},
   "source": [
    "# all models have good performance\n"
   ]
  },
  {
   "cell_type": "markdown",
   "id": "2166d38e-63d7-48f0-b822-eaa4b35fec73",
   "metadata": {},
   "source": [
    "# choose one model : SVC"
   ]
  },
  {
   "cell_type": "code",
   "execution_count": null,
   "id": "261685b9-d86f-4a1f-a924-271d74b96215",
   "metadata": {},
   "outputs": [],
   "source": []
  },
  {
   "cell_type": "code",
   "execution_count": null,
   "id": "9037c0f5-0110-4362-b79b-0f6867cb9473",
   "metadata": {},
   "outputs": [],
   "source": [
    "svc = SVC(kernel = 'linear')\n",
    "svc.fit(X_train, y_train)\n",
    "y_pred = svc.predict(X_test)\n",
    "accuracy = accuracy_score(y_pred, y_test)\n",
    "accuracy"
   ]
  },
  {
   "cell_type": "markdown",
   "id": "1a2f3884-6512-4792-a666-0a5907a9be7c",
   "metadata": {},
   "source": [
    "# saving the model"
   ]
  },
  {
   "cell_type": "code",
   "execution_count": null,
   "id": "df9c4e14-8ba1-49eb-b292-aae865292284",
   "metadata": {},
   "outputs": [],
   "source": [
    "import pickle \n",
    "pickle.dump(svc, open('../models/svc.pkl', 'wb'))"
   ]
  },
  {
   "cell_type": "code",
   "execution_count": null,
   "id": "e4a879c6-4bfe-4d2f-aeba-73092ec011fc",
   "metadata": {},
   "outputs": [],
   "source": [
    "# Load the saved model \n",
    "svc = pickle.load(open('../models/svc.pkl', 'rb'))"
   ]
  },
  {
   "cell_type": "code",
   "execution_count": null,
   "id": "c8c4fda8-4d9a-4126-807f-47c169c408df",
   "metadata": {},
   "outputs": [],
   "source": [
    "# test nbr 2\n",
    "print('Predicted label:' , svc.predict(X_test.iloc[0].values.reshape(1,-1)))\n",
    "print('actual disease:' , y_test[0])\n",
    "    "
   ]
  },
  {
   "cell_type": "code",
   "execution_count": null,
   "id": "f1fa7711-4fa8-4284-add2-4050e7353a27",
   "metadata": {},
   "outputs": [],
   "source": [
    "y_test"
   ]
  },
  {
   "cell_type": "code",
   "execution_count": null,
   "id": "b2e69827-ccd1-47ca-a941-406b15dda0eb",
   "metadata": {},
   "outputs": [],
   "source": [
    "# test nbr 2\n",
    "print('Predicted label:' , svc.predict(X_test.iloc[12].values.reshape(1,-1)))\n",
    "print('actual disease:' , y_test[12])\n"
   ]
  },
  {
   "cell_type": "markdown",
   "id": "68301cdd-3785-4978-bf59-8c0ea4b4a70e",
   "metadata": {},
   "source": [
    "# Load database and use logic for recommendations"
   ]
  },
  {
   "cell_type": "code",
   "execution_count": null,
   "id": "fe5156c9-dbd4-43b3-bfa5-f7bd0d66052b",
   "metadata": {},
   "outputs": [],
   "source": [
    "syms = pd.read_csv('../data/symtoms_df.csv')\n",
    "precautions = pd.read_csv('../data/precautions_df.csv')\n",
    "workout = pd.read_csv('../data/workout_df.csv')\n",
    "description = pd.read_csv('../data/description.csv')\n",
    "medications = pd.read_csv('../data/medications.csv')\n",
    "diets = pd.read_csv('../data/diets.csv')"
   ]
  },
  {
   "cell_type": "code",
   "execution_count": null,
   "id": "339a468e-a229-4ca2-8236-b1cf77532dcb",
   "metadata": {},
   "outputs": [],
   "source": [
    "df.shape"
   ]
  },
  {
   "cell_type": "code",
   "execution_count": null,
   "id": "b8d47d1c-0b80-43e5-bdaf-90101a98742b",
   "metadata": {},
   "outputs": [],
   "source": [
    "# Create dictionary with symptoms as keys and index as values\n",
    "# Get all columns except 'prognosis'\n",
    "unique_symptoms = [col for col in dataset.columns if col != 'prognosis']\n",
    "symptoms_dict = {symptom: i for i, symptom in enumerate(unique_symptoms)}\n",
    "print(symptoms_dict)"
   ]
  },
  {
   "cell_type": "code",
   "execution_count": null,
   "id": "b8abe760-3ddf-48be-8abe-a85b1928b64f",
   "metadata": {},
   "outputs": [],
   "source": [
    "# create a dictionary of individual disease\n",
    "unique_disease = syms.Disease.unique()\n",
    "diseases_list = {disease: i for i, disease in enumerate(unique_disease)}\n",
    "\n",
    "\n",
    "def create_diseases_list(diseases_list):\n",
    "    # Create a new dictionary to store the formatted output\n",
    "    formatted_list = {nbr: disease for nbr, disease in diseases_list.items()}\n",
    "    return formatted_list\n",
    "diseases_list = create_diseases_list(diseases_list)\n"
   ]
  },
  {
   "cell_type": "code",
   "execution_count": 256,
   "id": "bb11c240-de9c-4f95-8ac7-634025939a03",
   "metadata": {},
   "outputs": [],
   "source": [
    "def helper (dis):\n",
    "    descr = description[description['Disease'] == dis]['Description']\n",
    "    descr = ' '.join(w for w in descr)\n",
    "\n",
    "    prec = precautions[precautions['Disease'] == dis][['Precaution_1', 'Precaution_2', 'Precaution_3', 'Precaution_4']]\n",
    "    prec = [i for i in prec.values]\n",
    "\n",
    "    med = medications[medications['Disease'] == dis]['Medication']\n",
    "    med = ' '.join (m for m in med.values)\n",
    "\n",
    "    die = diets[diets['Disease'] == dis]['Diet']\n",
    "    die = [d for d in die.values]\n",
    "\n",
    "    work = workout[workout['disease'] == dis]['workout']\n",
    "\n",
    "    return descr, prec, med, die, work"
   ]
  },
  {
   "cell_type": "code",
   "execution_count": 254,
   "id": "66131966-df4f-499b-aa1f-31e4cb4770eb",
   "metadata": {},
   "outputs": [],
   "source": [
    "#model prediction function\n",
    "def get_predicted_value(patient_symptoms):\n",
    "    input_vector = np.zeros(len(symptoms_dict)) ## an inout vector which holds zeros \n",
    "\n",
    "\n",
    "    for item in patient_symptoms:\n",
    "        input_vector[symptoms_dict[item]] = 1\n",
    "        svc.predict([input_vector])[0]\n",
    "\n",
    "    return formatted_list[svc.predict([input_vector])[0]]"
   ]
  },
  {
   "cell_type": "code",
   "execution_count": 260,
   "id": "1f09488b-85fc-420a-a95e-88529e589556",
   "metadata": {},
   "outputs": [
    {
     "name": "stdin",
     "output_type": "stream",
     "text": [
      "enter symptoms: back_pain\n"
     ]
    },
    {
     "name": "stderr",
     "output_type": "stream",
     "text": [
      "C:\\Users\\USER\\AppData\\Local\\anaconda3\\envs\\Python1\\Lib\\site-packages\\sklearn\\base.py:439: UserWarning: X does not have valid feature names, but SVC was fitted with feature names\n",
      "  warnings.warn(\n",
      "C:\\Users\\USER\\AppData\\Local\\anaconda3\\envs\\Python1\\Lib\\site-packages\\sklearn\\base.py:439: UserWarning: X does not have valid feature names, but SVC was fitted with feature names\n",
      "  warnings.warn(\n"
     ]
    },
    {
     "data": {
      "text/plain": [
       "[array(['have balanced diet', 'exercise', 'consult doctor', 'follow up'],\n",
       "       dtype=object)]"
      ]
     },
     "execution_count": 260,
     "metadata": {},
     "output_type": "execute_result"
    }
   ],
   "source": [
    "symptoms = input('enter symptoms:')\n",
    "user_symptoms = [s.strip() for s in symptoms.split(',')]\n",
    "user_symptoms = [sym.strip('[]') for sym in user_symptoms]\n",
    "predicted_disease = get_predicted_value(user_symptoms)\n",
    "descr, prec, med, die, work = helper(predicted_disease)"
   ]
  },
  {
   "cell_type": "code",
   "execution_count": 266,
   "id": "fb5e4d73-c983-42a5-8d38-7c373c382d21",
   "metadata": {},
   "outputs": [
    {
     "name": "stdout",
     "output_type": "stream",
     "text": [
      "Diabetes \n"
     ]
    }
   ],
   "source": [
    "print(predicted_disease)"
   ]
  },
  {
   "cell_type": "code",
   "execution_count": 268,
   "id": "e7f53af9-d3de-4e8c-96e8-092aadb43699",
   "metadata": {},
   "outputs": [
    {
     "name": "stdout",
     "output_type": "stream",
     "text": [
      "\n"
     ]
    }
   ],
   "source": [
    "print(med)"
   ]
  },
  {
   "cell_type": "code",
   "execution_count": null,
   "id": "ec8ff841-c465-4ddf-aea2-a2d6194d1836",
   "metadata": {},
   "outputs": [],
   "source": []
  },
  {
   "cell_type": "code",
   "execution_count": null,
   "id": "af0d6b6a-8a72-40d7-90ff-1b7ebe7d71d8",
   "metadata": {},
   "outputs": [],
   "source": []
  },
  {
   "cell_type": "code",
   "execution_count": null,
   "id": "7aff6142-704b-45e1-981d-ff995342a2ec",
   "metadata": {},
   "outputs": [],
   "source": []
  },
  {
   "cell_type": "code",
   "execution_count": null,
   "id": "c371b6a7-261a-407c-9b31-2283d1f71aa5",
   "metadata": {},
   "outputs": [],
   "source": []
  },
  {
   "cell_type": "code",
   "execution_count": null,
   "id": "cd0e2058-a2e9-43e3-aa50-1344ec62eab9",
   "metadata": {},
   "outputs": [],
   "source": [
    "descr = description[description['Disease'] == predicted_disease]['Description']\n",
    "descr = ' '.join(w for w in descr)\n",
    "descr"
   ]
  },
  {
   "cell_type": "code",
   "execution_count": 248,
   "id": "08bcb95c-44b7-409a-9904-9bb92221c840",
   "metadata": {},
   "outputs": [
    {
     "data": {
      "text/plain": [
       "[array(['stop irritation', 'consult nearest hospital', 'stop taking drug',\n",
       "        'follow up'], dtype=object)]"
      ]
     },
     "execution_count": 248,
     "metadata": {},
     "output_type": "execute_result"
    }
   ],
   "source": [
    "prec = precautions[precautions['Disease'] == predicted_disease][['Precaution_1', 'Precaution_2', 'Precaution_3', 'Precaution_4']]\n",
    "prec = [i for i in prec.values]\n",
    "prec "
   ]
  },
  {
   "cell_type": "code",
   "execution_count": 249,
   "id": "5a800728-ede3-4955-b1c5-22e6f3e0ebc3",
   "metadata": {},
   "outputs": [
    {
     "data": {
      "text/plain": [
       "\"['stop irritation' 'consult nearest hospital' 'stop taking drug'\\n 'follow up']\""
      ]
     },
     "execution_count": 249,
     "metadata": {},
     "output_type": "execute_result"
    }
   ],
   "source": [
    "prec = ' '.join(str(p) for p in prec)\n",
    "prec"
   ]
  },
  {
   "cell_type": "code",
   "execution_count": null,
   "id": "559cd171-7f2a-4ef4-a41b-261fdd27de39",
   "metadata": {},
   "outputs": [],
   "source": []
  },
  {
   "cell_type": "code",
   "execution_count": null,
   "id": "b49567b8-94ab-4e1c-9e56-814e0b6b87c0",
   "metadata": {},
   "outputs": [],
   "source": []
  },
  {
   "cell_type": "code",
   "execution_count": null,
   "id": "e1260075-cec2-43aa-b7af-2965a5e44a0e",
   "metadata": {},
   "outputs": [],
   "source": [
    "# Extract unique diseases and create a dictionary with indices starting from 0\n",
    "unique_disease = syms.Disease.unique()\n",
    "diseases_list = {i: disease for i, disease in enumerate(unique_disease)}\n",
    "\n",
    "# Output each number with the corresponding disease\n",
    "for nbr, disease in diseases_list.items():\n",
    "    print(f\"{nbr} : '{disease}'\")\n"
   ]
  },
  {
   "cell_type": "code",
   "execution_count": null,
   "id": "02f44e89-3276-49a3-8116-4335d565b208",
   "metadata": {},
   "outputs": [],
   "source": []
  },
  {
   "cell_type": "code",
   "execution_count": null,
   "id": "199b59f6-b74e-43f4-b479-ae969be2995d",
   "metadata": {},
   "outputs": [],
   "source": [
    "formatted_list[38]"
   ]
  },
  {
   "cell_type": "code",
   "execution_count": null,
   "id": "773037e7-d479-441d-8a33-a41e45ad467f",
   "metadata": {},
   "outputs": [],
   "source": [
    "mild_fever, yellow_urine, yellowing_of_eyes, acute_liver_failure, fluid_overload, swelling_of_stomach"
   ]
  },
  {
   "cell_type": "code",
   "execution_count": 250,
   "id": "963bd432-839a-4bf3-8118-2cf4e90b61cb",
   "metadata": {},
   "outputs": [
    {
     "data": {
      "text/html": [
       "<div>\n",
       "<style scoped>\n",
       "    .dataframe tbody tr th:only-of-type {\n",
       "        vertical-align: middle;\n",
       "    }\n",
       "\n",
       "    .dataframe tbody tr th {\n",
       "        vertical-align: top;\n",
       "    }\n",
       "\n",
       "    .dataframe thead th {\n",
       "        text-align: right;\n",
       "    }\n",
       "</style>\n",
       "<table border=\"1\" class=\"dataframe\">\n",
       "  <thead>\n",
       "    <tr style=\"text-align: right;\">\n",
       "      <th></th>\n",
       "      <th>Unnamed: 0.1</th>\n",
       "      <th>Unnamed: 0</th>\n",
       "      <th>disease</th>\n",
       "      <th>workout</th>\n",
       "    </tr>\n",
       "  </thead>\n",
       "  <tbody>\n",
       "    <tr>\n",
       "      <th>0</th>\n",
       "      <td>0</td>\n",
       "      <td>0</td>\n",
       "      <td>Fungal infection</td>\n",
       "      <td>Avoid sugary foods</td>\n",
       "    </tr>\n",
       "    <tr>\n",
       "      <th>1</th>\n",
       "      <td>1</td>\n",
       "      <td>1</td>\n",
       "      <td>Fungal infection</td>\n",
       "      <td>Consume probiotics</td>\n",
       "    </tr>\n",
       "    <tr>\n",
       "      <th>2</th>\n",
       "      <td>2</td>\n",
       "      <td>2</td>\n",
       "      <td>Fungal infection</td>\n",
       "      <td>Increase intake of garlic</td>\n",
       "    </tr>\n",
       "    <tr>\n",
       "      <th>3</th>\n",
       "      <td>3</td>\n",
       "      <td>3</td>\n",
       "      <td>Fungal infection</td>\n",
       "      <td>Include yogurt in diet</td>\n",
       "    </tr>\n",
       "    <tr>\n",
       "      <th>4</th>\n",
       "      <td>4</td>\n",
       "      <td>4</td>\n",
       "      <td>Fungal infection</td>\n",
       "      <td>Limit processed foods</td>\n",
       "    </tr>\n",
       "    <tr>\n",
       "      <th>...</th>\n",
       "      <td>...</td>\n",
       "      <td>...</td>\n",
       "      <td>...</td>\n",
       "      <td>...</td>\n",
       "    </tr>\n",
       "    <tr>\n",
       "      <th>405</th>\n",
       "      <td>405</td>\n",
       "      <td>405</td>\n",
       "      <td>Impetigo</td>\n",
       "      <td>Consult a healthcare professional</td>\n",
       "    </tr>\n",
       "    <tr>\n",
       "      <th>406</th>\n",
       "      <td>406</td>\n",
       "      <td>406</td>\n",
       "      <td>Impetigo</td>\n",
       "      <td>Follow medical recommendations</td>\n",
       "    </tr>\n",
       "    <tr>\n",
       "      <th>407</th>\n",
       "      <td>407</td>\n",
       "      <td>407</td>\n",
       "      <td>Impetigo</td>\n",
       "      <td>Avoid scratching</td>\n",
       "    </tr>\n",
       "    <tr>\n",
       "      <th>408</th>\n",
       "      <td>408</td>\n",
       "      <td>408</td>\n",
       "      <td>Impetigo</td>\n",
       "      <td>Take prescribed antibiotics</td>\n",
       "    </tr>\n",
       "    <tr>\n",
       "      <th>409</th>\n",
       "      <td>409</td>\n",
       "      <td>409</td>\n",
       "      <td>Impetigo</td>\n",
       "      <td>Practice wound care</td>\n",
       "    </tr>\n",
       "  </tbody>\n",
       "</table>\n",
       "<p>410 rows × 4 columns</p>\n",
       "</div>"
      ],
      "text/plain": [
       "     Unnamed: 0.1  Unnamed: 0           disease  \\\n",
       "0               0           0  Fungal infection   \n",
       "1               1           1  Fungal infection   \n",
       "2               2           2  Fungal infection   \n",
       "3               3           3  Fungal infection   \n",
       "4               4           4  Fungal infection   \n",
       "..            ...         ...               ...   \n",
       "405           405         405          Impetigo   \n",
       "406           406         406          Impetigo   \n",
       "407           407         407          Impetigo   \n",
       "408           408         408          Impetigo   \n",
       "409           409         409          Impetigo   \n",
       "\n",
       "                               workout  \n",
       "0                   Avoid sugary foods  \n",
       "1                   Consume probiotics  \n",
       "2            Increase intake of garlic  \n",
       "3               Include yogurt in diet  \n",
       "4                Limit processed foods  \n",
       "..                                 ...  \n",
       "405  Consult a healthcare professional  \n",
       "406     Follow medical recommendations  \n",
       "407                   Avoid scratching  \n",
       "408        Take prescribed antibiotics  \n",
       "409                Practice wound care  \n",
       "\n",
       "[410 rows x 4 columns]"
      ]
     },
     "execution_count": 250,
     "metadata": {},
     "output_type": "execute_result"
    }
   ],
   "source": [
    "workout"
   ]
  },
  {
   "cell_type": "code",
   "execution_count": null,
   "id": "baa0a79d-c1a9-4f44-bbd2-82d56b9515a0",
   "metadata": {},
   "outputs": [],
   "source": []
  }
 ],
 "metadata": {
  "kernelspec": {
   "display_name": "Python 3 (ipykernel)",
   "language": "python",
   "name": "python3"
  },
  "language_info": {
   "codemirror_mode": {
    "name": "ipython",
    "version": 3
   },
   "file_extension": ".py",
   "mimetype": "text/x-python",
   "name": "python",
   "nbconvert_exporter": "python",
   "pygments_lexer": "ipython3",
   "version": "3.11.8"
  }
 },
 "nbformat": 4,
 "nbformat_minor": 5
}
